{
 "cells": [
  {
   "cell_type": "code",
   "execution_count": 31,
   "metadata": {},
   "outputs": [],
   "source": [
    ":dep plotters = {version = \"0.3.5\"}\n",
    ":dep polars = {version = \"0.35.0\", features = [\"describe\", \"lazy\", \"ndarray\"]}\n",
    ":dep ndarray = {version = \"0.15.6\"}\n",
    ":dep smartcore = {version = \"0.3.2\"}"
   ]
  },
  {
   "cell_type": "code",
   "execution_count": 32,
   "metadata": {},
   "outputs": [
    {
     "data": {
      "text/plain": [
       "ndarray = {version = \"0.15.6\"}\n",
       "plotters = {version = \"0.3.5\"}\n",
       "polars = {version = \"0.35.0\", features = [\"describe\", \"lazy\", \"ndarray\"]}\n",
       "smartcore = {version = \"0.3.2\"}\n"
      ]
     },
     "execution_count": 32,
     "metadata": {},
     "output_type": "execute_result"
    }
   ],
   "source": [
    ":show_deps"
   ]
  },
  {
   "cell_type": "code",
   "execution_count": 33,
   "metadata": {},
   "outputs": [],
   "source": [
    "use polars::prelude::*;\n",
    "use polars::frame::DataFrame;\n",
    "use std::path::Path;\n",
    "use ndarray::{ArrayBase, DataMut, Dimension, concatenate, Axis};\n",
    "use plotters::prelude::*\n",
    "use smartcore::linalg::basic::matrix::DenseMatrix;\n",
    "use ndarray::prelude::*;"
   ]
  },
  {
   "cell_type": "code",
   "execution_count": 41,
   "metadata": {},
   "outputs": [
    {
     "data": {
      "text/html": [
       "<pre><code class=\"language-rust\">polars_core::frame\n",
       "</code></pre>\n",
       "<pre><code class=\"language-rust\">pub struct DataFrame {\n",
       "    pub(crate) columns: Vec&lt;Series, Global&gt;,\n",
       "}\n",
       "</code></pre>\n",
       "<hr />\n",
       "<p>A contiguous growable collection of <code>Series</code> that have the same length.</p>\n",
       "<h2>Use declarations</h2>\n",
       "<p>All the common tools can be found in <a href=\"https://docs.rs/polars-core/0.35.4/polars_core/prelude/index.html\"><code>crate::prelude</code></a> (or in <code>polars::prelude</code>).</p>\n",
       "<pre><code class=\"language-rust\">use polars_core::prelude::*; // if the crate polars-core is used directly\n",
       "// use polars::prelude::*;      if the crate polars is used\n",
       "</code></pre>\n",
       "<h1>Initialization</h1>\n",
       "<h2>Default</h2>\n",
       "<p>A <code>DataFrame</code> can be initialized empty:</p>\n",
       "<pre><code class=\"language-rust\"># use polars_core::prelude::*;\n",
       "let df = DataFrame::default();\n",
       "assert!(df.is_empty());\n",
       "</code></pre>\n",
       "<h2>Wrapping a <code>Vec&lt;Series&gt;</code></h2>\n",
       "<p>A <code>DataFrame</code> is built upon a <code>Vec&lt;Series&gt;</code> where the <code>Series</code> have the same length.</p>\n",
       "<pre><code class=\"language-rust\"># use polars_core::prelude::*;\n",
       "let s1 = Series::new(&quot;Fruit&quot;, &amp;[&quot;Apple&quot;, &quot;Apple&quot;, &quot;Pear&quot;]);\n",
       "let s2 = Series::new(&quot;Color&quot;, &amp;[&quot;Red&quot;, &quot;Yellow&quot;, &quot;Green&quot;]);\n",
       "\n",
       "let df: PolarsResult&lt;DataFrame&gt; = DataFrame::new(vec![s1, s2]);\n",
       "</code></pre>\n",
       "<h2>Using a macro</h2>\n",
       "<p>The <a href=\"https://docs.rs/polars-core/0.35.4/polars_core/utils/macro.df.html\"><code>df</code></a> macro is a convenient method:</p>\n",
       "<pre><code class=\"language-rust\"># use polars_core::prelude::*;\n",
       "let df: PolarsResult&lt;DataFrame&gt; = df!(&quot;Fruit&quot; =&gt; &amp;[&quot;Apple&quot;, &quot;Apple&quot;, &quot;Pear&quot;],\n",
       "                                      &quot;Color&quot; =&gt; &amp;[&quot;Red&quot;, &quot;Yellow&quot;, &quot;Green&quot;]);\n",
       "</code></pre>\n",
       "<h2>Using a CSV file</h2>\n",
       "<p>See the <code>polars_io::csv::CsvReader</code>.</p>\n",
       "<h1>Indexing</h1>\n",
       "<h2>By a number</h2>\n",
       "<p>The <code>Index&lt;usize&gt;</code> is implemented for the <code>DataFrame</code>.</p>\n",
       "<pre><code class=\"language-rust\"># use polars_core::prelude::*;\n",
       "let df = df!(&quot;Fruit&quot; =&gt; &amp;[&quot;Apple&quot;, &quot;Apple&quot;, &quot;Pear&quot;],\n",
       "             &quot;Color&quot; =&gt; &amp;[&quot;Red&quot;, &quot;Yellow&quot;, &quot;Green&quot;])?;\n",
       "\n",
       "assert_eq!(df[0], Series::new(&quot;Fruit&quot;, &amp;[&quot;Apple&quot;, &quot;Apple&quot;, &quot;Pear&quot;]));\n",
       "assert_eq!(df[1], Series::new(&quot;Color&quot;, &amp;[&quot;Red&quot;, &quot;Yellow&quot;, &quot;Green&quot;]));\n",
       "# Ok::&lt;(), PolarsError&gt;(())\n",
       "</code></pre>\n",
       "<h2>By a <code>Series</code> name</h2>\n",
       "<pre><code class=\"language-rust\"># use polars_core::prelude::*;\n",
       "let df = df!(&quot;Fruit&quot; =&gt; &amp;[&quot;Apple&quot;, &quot;Apple&quot;, &quot;Pear&quot;],\n",
       "             &quot;Color&quot; =&gt; &amp;[&quot;Red&quot;, &quot;Yellow&quot;, &quot;Green&quot;])?;\n",
       "\n",
       "assert_eq!(df[&quot;Fruit&quot;], Series::new(&quot;Fruit&quot;, &amp;[&quot;Apple&quot;, &quot;Apple&quot;, &quot;Pear&quot;]));\n",
       "assert_eq!(df[&quot;Color&quot;], Series::new(&quot;Color&quot;, &amp;[&quot;Red&quot;, &quot;Yellow&quot;, &quot;Green&quot;]));\n",
       "# Ok::&lt;(), PolarsError&gt;(())\n",
       "</code></pre>\n"
      ],
      "text/plain": [
       "polars_core::frame\n",
       "\n",
       "pub struct DataFrame {\n",
       "    pub(crate) columns: Vec<Series, Global>,\n",
       "}\n",
       "\n",
       "\n",
       "A contiguous growable collection of Series that have the same length.\n",
       "\n",
       "Use declarationsAll the common tools can be found in crate::prelude (or in polars::prelude).\n",
       "\n",
       "use polars_core::prelude::*; // if the crate polars-core is used directly\n",
       "// use polars::prelude::*;      if the crate polars is used\n",
       "\n",
       "InitializationDefaultA DataFrame can be initialized empty:\n",
       "\n",
       "# use polars_core::prelude::*;\n",
       "let df = DataFrame::default();\n",
       "assert!(df.is_empty());\n",
       "\n",
       "Wrapping a Vec<Series>A DataFrame is built upon a Vec<Series> where the Series have the same length.\n",
       "\n",
       "# use polars_core::prelude::*;\n",
       "let s1 = Series::new(\"Fruit\", &[\"Apple\", \"Apple\", \"Pear\"]);\n",
       "let s2 = Series::new(\"Color\", &[\"Red\", \"Yellow\", \"Green\"]);\n",
       "\n",
       "let df: PolarsResult<DataFrame> = DataFrame::new(vec![s1, s2]);\n",
       "\n",
       "Using a macroThe df macro is a convenient method:\n",
       "\n",
       "# use polars_core::prelude::*;\n",
       "let df: PolarsResult<DataFrame> = df!(\"Fruit\" => &[\"Apple\", \"Apple\", \"Pear\"],\n",
       "                                      \"Color\" => &[\"Red\", \"Yellow\", \"Green\"]);\n",
       "\n",
       "Using a CSV fileSee the polars_io::csv::CsvReader.\n",
       "\n",
       "IndexingBy a numberThe Index<usize> is implemented for the DataFrame.\n",
       "\n",
       "# use polars_core::prelude::*;\n",
       "let df = df!(\"Fruit\" => &[\"Apple\", \"Apple\", \"Pear\"],\n",
       "             \"Color\" => &[\"Red\", \"Yellow\", \"Green\"])?;\n",
       "\n",
       "assert_eq!(df[0], Series::new(\"Fruit\", &[\"Apple\", \"Apple\", \"Pear\"]));\n",
       "assert_eq!(df[1], Series::new(\"Color\", &[\"Red\", \"Yellow\", \"Green\"]));\n",
       "# Ok::<(), PolarsError>(())\n",
       "\n",
       "By a Series name# use polars_core::prelude::*;\n",
       "let df = df!(\"Fruit\" => &[\"Apple\", \"Apple\", \"Pear\"],\n",
       "             \"Color\" => &[\"Red\", \"Yellow\", \"Green\"])?;\n",
       "\n",
       "assert_eq!(df[\"Fruit\"], Series::new(\"Fruit\", &[\"Apple\", \"Apple\", \"Pear\"]));\n",
       "assert_eq!(df[\"Color\"], Series::new(\"Color\", &[\"Red\", \"Yellow\", \"Green\"]));\n",
       "# Ok::<(), PolarsError>(())"
      ]
     },
     "execution_count": 41,
     "metadata": {},
     "output_type": "execute_result"
    }
   ],
   "source": [
    ":doc DataFrame"
   ]
  },
  {
   "cell_type": "code",
   "execution_count": 42,
   "metadata": {},
   "outputs": [
    {
     "data": {
      "text/plain": [
       "shape: (150, 6)\n",
       "┌─────┬───────────────┬──────────────┬───────────────┬──────────────┬────────────────┐\n",
       "│ Id  ┆ SepalLengthCm ┆ SepalWidthCm ┆ PetalLengthCm ┆ PetalWidthCm ┆ Species        │\n",
       "│ --- ┆ ---           ┆ ---          ┆ ---           ┆ ---          ┆ ---            │\n",
       "│ i64 ┆ f64           ┆ f64          ┆ f64           ┆ f64          ┆ str            │\n",
       "╞═════╪═══════════════╪══════════════╪═══════════════╪══════════════╪════════════════╡\n",
       "│ 1   ┆ 5.1           ┆ 3.5          ┆ 1.4           ┆ 0.2          ┆ Iris-setosa    │\n",
       "│ 2   ┆ 4.9           ┆ 3.0          ┆ 1.4           ┆ 0.2          ┆ Iris-setosa    │\n",
       "│ 3   ┆ 4.7           ┆ 3.2          ┆ 1.3           ┆ 0.2          ┆ Iris-setosa    │\n",
       "│ 4   ┆ 4.6           ┆ 3.1          ┆ 1.5           ┆ 0.2          ┆ Iris-setosa    │\n",
       "│ …   ┆ …             ┆ …            ┆ …             ┆ …            ┆ …              │\n",
       "│ 147 ┆ 6.3           ┆ 2.5          ┆ 5.0           ┆ 1.9          ┆ Iris-virginica │\n",
       "│ 148 ┆ 6.5           ┆ 3.0          ┆ 5.2           ┆ 2.0          ┆ Iris-virginica │\n",
       "│ 149 ┆ 6.2           ┆ 3.4          ┆ 5.4           ┆ 2.3          ┆ Iris-virginica │\n",
       "│ 150 ┆ 5.9           ┆ 3.0          ┆ 5.1           ┆ 1.8          ┆ Iris-virginica │\n",
       "└─────┴───────────────┴──────────────┴───────────────┴──────────────┴────────────────┘"
      ]
     },
     "execution_count": 42,
     "metadata": {},
     "output_type": "execute_result"
    }
   ],
   "source": [
    "//load dataset\n",
    "fn read_data_frame_from_csv(\n",
    "    csv_file_path: &Path,\n",
    ") -> DataFrame{\n",
    "    CsvReader::from_path(csv_file_path)\n",
    "    .expect(\"Connot open file.\")\n",
    "    .has_header(true)\n",
    "    .finish()\n",
    "    .unwrap()\n",
    "}\n",
    "\n",
    "let iris_file_path: &Path = Path::new(\"C:\\\\Users\\\\PY245AG\\\\Downloads\\\\Iris.csv\");\n",
    "let iris_df: DataFrame = read_data_frame_from_csv(iris_file_path);\n",
    "iris_df"
   ]
  },
  {
   "cell_type": "code",
   "execution_count": 43,
   "metadata": {},
   "outputs": [
    {
     "data": {
      "text/html": [
       "iris_df: DataFrame"
      ],
      "text/plain": [
       "iris_df: DataFrame"
      ]
     },
     "execution_count": 43,
     "metadata": {},
     "output_type": "execute_result"
    }
   ],
   "source": [
    ":type iris_df"
   ]
  },
  {
   "cell_type": "code",
   "execution_count": 44,
   "metadata": {},
   "outputs": [
    {
     "data": {
      "text/plain": [
       "(150, 6)"
      ]
     },
     "execution_count": 44,
     "metadata": {},
     "output_type": "execute_result"
    }
   ],
   "source": [
    "iris_df.shape()"
   ]
  },
  {
   "cell_type": "code",
   "execution_count": 45,
   "metadata": {},
   "outputs": [
    {
     "data": {
      "text/plain": [
       "shape: (5, 6)\n",
       "┌─────┬───────────────┬──────────────┬───────────────┬──────────────┬─────────────┐\n",
       "│ Id  ┆ SepalLengthCm ┆ SepalWidthCm ┆ PetalLengthCm ┆ PetalWidthCm ┆ Species     │\n",
       "│ --- ┆ ---           ┆ ---          ┆ ---           ┆ ---          ┆ ---         │\n",
       "│ i64 ┆ f64           ┆ f64          ┆ f64           ┆ f64          ┆ str         │\n",
       "╞═════╪═══════════════╪══════════════╪═══════════════╪══════════════╪═════════════╡\n",
       "│ 1   ┆ 5.1           ┆ 3.5          ┆ 1.4           ┆ 0.2          ┆ Iris-setosa │\n",
       "│ 2   ┆ 4.9           ┆ 3.0          ┆ 1.4           ┆ 0.2          ┆ Iris-setosa │\n",
       "│ 3   ┆ 4.7           ┆ 3.2          ┆ 1.3           ┆ 0.2          ┆ Iris-setosa │\n",
       "│ 4   ┆ 4.6           ┆ 3.1          ┆ 1.5           ┆ 0.2          ┆ Iris-setosa │\n",
       "│ 5   ┆ 5.0           ┆ 3.6          ┆ 1.4           ┆ 0.2          ┆ Iris-setosa │\n",
       "└─────┴───────────────┴──────────────┴───────────────┴──────────────┴─────────────┘"
      ]
     },
     "execution_count": 45,
     "metadata": {},
     "output_type": "execute_result"
    }
   ],
   "source": [
    "iris_df.head(Some(5))"
   ]
  },
  {
   "cell_type": "code",
   "execution_count": 46,
   "metadata": {},
   "outputs": [
    {
     "data": {
      "text/plain": [
       "shape: (5, 6)\n",
       "┌─────┬───────────────┬──────────────┬───────────────┬──────────────┬────────────────┐\n",
       "│ Id  ┆ SepalLengthCm ┆ SepalWidthCm ┆ PetalLengthCm ┆ PetalWidthCm ┆ Species        │\n",
       "│ --- ┆ ---           ┆ ---          ┆ ---           ┆ ---          ┆ ---            │\n",
       "│ i64 ┆ f64           ┆ f64          ┆ f64           ┆ f64          ┆ str            │\n",
       "╞═════╪═══════════════╪══════════════╪═══════════════╪══════════════╪════════════════╡\n",
       "│ 146 ┆ 6.7           ┆ 3.0          ┆ 5.2           ┆ 2.3          ┆ Iris-virginica │\n",
       "│ 147 ┆ 6.3           ┆ 2.5          ┆ 5.0           ┆ 1.9          ┆ Iris-virginica │\n",
       "│ 148 ┆ 6.5           ┆ 3.0          ┆ 5.2           ┆ 2.0          ┆ Iris-virginica │\n",
       "│ 149 ┆ 6.2           ┆ 3.4          ┆ 5.4           ┆ 2.3          ┆ Iris-virginica │\n",
       "│ 150 ┆ 5.9           ┆ 3.0          ┆ 5.1           ┆ 1.8          ┆ Iris-virginica │\n",
       "└─────┴───────────────┴──────────────┴───────────────┴──────────────┴────────────────┘"
      ]
     },
     "execution_count": 46,
     "metadata": {},
     "output_type": "execute_result"
    }
   ],
   "source": [
    "iris_df.tail(Some(5))"
   ]
  },
  {
   "cell_type": "code",
   "execution_count": 49,
   "metadata": {},
   "outputs": [
    {
     "data": {
      "text/plain": [
       "shape: (9, 7)\n",
       "┌────────────┬───────────┬──────────────┬──────────────┬──────────────┬──────────────┬─────────────┐\n",
       "│ describe   ┆ Id        ┆ SepalLengthC ┆ SepalWidthCm ┆ PetalLengthC ┆ PetalWidthCm ┆ Species     │\n",
       "│ ---        ┆ ---       ┆ m            ┆ ---          ┆ m            ┆ ---          ┆ ---         │\n",
       "│ str        ┆ f64       ┆ ---          ┆ f64          ┆ ---          ┆ f64          ┆ str         │\n",
       "│            ┆           ┆ f64          ┆              ┆ f64          ┆              ┆             │\n",
       "╞════════════╪═══════════╪══════════════╪══════════════╪══════════════╪══════════════╪═════════════╡\n",
       "│ count      ┆ 150.0     ┆ 150.0        ┆ 150.0        ┆ 150.0        ┆ 150.0        ┆ 150         │\n",
       "│ null_count ┆ 0.0       ┆ 0.0          ┆ 0.0          ┆ 0.0          ┆ 0.0          ┆ 0           │\n",
       "│ mean       ┆ 75.5      ┆ 5.843333     ┆ 3.054        ┆ 3.758667     ┆ 1.198667     ┆ null        │\n",
       "│ std        ┆ 43.445368 ┆ 0.828066     ┆ 0.433594     ┆ 1.76442      ┆ 0.763161     ┆ null        │\n",
       "│ min        ┆ 1.0       ┆ 4.3          ┆ 2.0          ┆ 1.0          ┆ 0.1          ┆ Iris-setosa │\n",
       "│ 25%        ┆ 38.25     ┆ 5.1          ┆ 2.8          ┆ 1.6          ┆ 0.3          ┆ null        │\n",
       "│ 50%        ┆ 75.5      ┆ 5.8          ┆ 3.0          ┆ 4.35         ┆ 1.3          ┆ null        │\n",
       "│ 75%        ┆ 112.75    ┆ 6.4          ┆ 3.3          ┆ 5.1          ┆ 1.8          ┆ null        │\n",
       "│ max        ┆ 150.0     ┆ 7.9          ┆ 4.4          ┆ 6.9          ┆ 2.5          ┆ Iris-virgin │\n",
       "│            ┆           ┆              ┆              ┆              ┆              ┆ ica         │\n",
       "└────────────┴───────────┴──────────────┴──────────────┴──────────────┴──────────────┴─────────────┘"
      ]
     },
     "execution_count": 49,
     "metadata": {},
     "output_type": "execute_result"
    }
   ],
   "source": [
    "iris_df.describe(None)?"
   ]
  },
  {
   "cell_type": "code",
   "execution_count": 50,
   "metadata": {},
   "outputs": [
    {
     "data": {
      "text/plain": [
       "[\"Id\", \"SepalLengthCm\", \"SepalWidthCm\", \"PetalLengthCm\", \"PetalWidthCm\", \"Species\"]"
      ]
     },
     "execution_count": 50,
     "metadata": {},
     "output_type": "execute_result"
    }
   ],
   "source": [
    "let column_names = iris_df.get_column_names();\n",
    "{\n",
    "    column_names\n",
    "}"
   ]
  },
  {
   "cell_type": "code",
   "execution_count": 52,
   "metadata": {},
   "outputs": [],
   "source": [
    "let numeric_iris_df: DataFrame = iris_df.drop(\"Species\")?;"
   ]
  },
  {
   "cell_type": "code",
   "execution_count": 53,
   "metadata": {},
   "outputs": [
    {
     "data": {
      "text/plain": [
       "shape: (1, 5)\n",
       "┌──────┬───────────────┬──────────────┬───────────────┬──────────────┐\n",
       "│ Id   ┆ SepalLengthCm ┆ SepalWidthCm ┆ PetalLengthCm ┆ PetalWidthCm │\n",
       "│ ---  ┆ ---           ┆ ---          ┆ ---           ┆ ---          │\n",
       "│ f64  ┆ f64           ┆ f64          ┆ f64           ┆ f64          │\n",
       "╞══════╪═══════════════╪══════════════╪═══════════════╪══════════════╡\n",
       "│ 75.5 ┆ 5.843333      ┆ 3.054        ┆ 3.758667      ┆ 1.198667     │\n",
       "└──────┴───────────────┴──────────────┴───────────────┴──────────────┘"
      ]
     },
     "execution_count": 53,
     "metadata": {},
     "output_type": "execute_result"
    }
   ],
   "source": [
    "numeric_iris_df.mean()"
   ]
  },
  {
   "cell_type": "code",
   "execution_count": 54,
   "metadata": {},
   "outputs": [
    {
     "data": {
      "text/plain": [
       "shape: (1, 5)\n",
       "┌─────┬───────────────┬──────────────┬───────────────┬──────────────┐\n",
       "│ Id  ┆ SepalLengthCm ┆ SepalWidthCm ┆ PetalLengthCm ┆ PetalWidthCm │\n",
       "│ --- ┆ ---           ┆ ---          ┆ ---           ┆ ---          │\n",
       "│ i64 ┆ f64           ┆ f64          ┆ f64           ┆ f64          │\n",
       "╞═════╪═══════════════╪══════════════╪═══════════════╪══════════════╡\n",
       "│ 150 ┆ 7.9           ┆ 4.4          ┆ 6.9           ┆ 2.5          │\n",
       "└─────┴───────────────┴──────────────┴───────────────┴──────────────┘"
      ]
     },
     "execution_count": 54,
     "metadata": {},
     "output_type": "execute_result"
    }
   ],
   "source": [
    "numeric_iris_df.max()"
   ]
  },
  {
   "cell_type": "code",
   "execution_count": 56,
   "metadata": {},
   "outputs": [
    {
     "data": {
      "text/plain": [
       "[[1.0, 5.1, 3.5, 1.4, 0.2],\n",
       " [2.0, 4.9, 3.0, 1.4, 0.2],\n",
       " [3.0, 4.7, 3.2, 1.3, 0.2],\n",
       " [4.0, 4.6, 3.1, 1.5, 0.2],\n",
       " [5.0, 5.0, 3.6, 1.4, 0.2],\n",
       " ...,\n",
       " [146.0, 6.7, 3.0, 5.2, 2.3],\n",
       " [147.0, 6.3, 2.5, 5.0, 1.9],\n",
       " [148.0, 6.5, 3.0, 5.2, 2.0],\n",
       " [149.0, 6.2, 3.4, 5.4, 2.3],\n",
       " [150.0, 5.9, 3.0, 5.1, 1.8]], shape=[150, 5], strides=[1, 150], layout=Ff (0xa), const ndim=2"
      ]
     },
     "execution_count": 56,
     "metadata": {},
     "output_type": "execute_result"
    }
   ],
   "source": [
    "// convert to ndarray\n",
    "let numeric_iris_ndarray: ArrayBase<_, _> = numeric_iris_df.to_ndarray::<Float64Type>(IndexOrder::Fortran).unwrap();\n",
    "numeric_iris_ndarray"
   ]
  },
  {
   "cell_type": "code",
   "execution_count": 57,
   "metadata": {},
   "outputs": [
    {
     "data": {
      "text/plain": [
       "1.0"
      ]
     },
     "execution_count": 57,
     "metadata": {},
     "output_type": "execute_result"
    }
   ],
   "source": [
    "//ndarray: first element\n",
    "numeric_iris_ndarray[[0, 0]]"
   ]
  },
  {
   "cell_type": "code",
   "execution_count": 61,
   "metadata": {},
   "outputs": [
    {
     "data": {
      "text/plain": [
       "[1.0, 5.1, 3.5, 1.4, 0.2], shape=[5], strides=[150], layout=Custom (0x0), const ndim=1"
      ]
     },
     "execution_count": 61,
     "metadata": {},
     "output_type": "execute_result"
    }
   ],
   "source": [
    "//ndarray: first row\n",
    "numeric_iris_ndarray.slice(s![0, ..])"
   ]
  },
  {
   "cell_type": "code",
   "execution_count": 62,
   "metadata": {},
   "outputs": [
    {
     "data": {
      "text/plain": [
       "(150, 5)"
      ]
     },
     "execution_count": 62,
     "metadata": {},
     "output_type": "execute_result"
    }
   ],
   "source": [
    "//ndarray: shape\n",
    "numeric_iris_ndarray.dim()"
   ]
  },
  {
   "cell_type": "code",
   "execution_count": 64,
   "metadata": {},
   "outputs": [
    {
     "data": {
      "text/plain": [
       "[150.0, 5.9, 3.0, 5.1, 1.8], shape=[5], strides=[150], layout=Custom (0x0), const ndim=1"
      ]
     },
     "execution_count": 64,
     "metadata": {},
     "output_type": "execute_result"
    }
   ],
   "source": [
    "//ndarray: last row\n",
    "let numeric_iris_ndarray_shape = numeric_iris_ndarray.dim();\n",
    "numeric_iris_ndarray.slice(s![-1, ..])"
   ]
  },
  {
   "cell_type": "code",
   "execution_count": 65,
   "metadata": {},
   "outputs": [
    {
     "data": {
      "text/plain": [
       "[[1.0, 5.1, 3.5, 1.4, 0.2],\n",
       " [2.0, 4.9, 3.0, 1.4, 0.2],\n",
       " [3.0, 4.7, 3.2, 1.3, 0.2],\n",
       " [4.0, 4.6, 3.1, 1.5, 0.2],\n",
       " [5.0, 5.0, 3.6, 1.4, 0.2]], shape=[5, 5], strides=[1, 150], layout=f (0x8), const ndim=2"
      ]
     },
     "execution_count": 65,
     "metadata": {},
     "output_type": "execute_result"
    }
   ],
   "source": [
    "//ndarray: first five row\n",
    "numeric_iris_ndarray.slice(s![0..5, ..])"
   ]
  },
  {
   "cell_type": "code",
   "execution_count": 68,
   "metadata": {},
   "outputs": [
    {
     "data": {
      "text/plain": [
       "[[146.0, 6.7, 3.0, 5.2, 2.3],\n",
       " [147.0, 6.3, 2.5, 5.0, 1.9],\n",
       " [148.0, 6.5, 3.0, 5.2, 2.0],\n",
       " [149.0, 6.2, 3.4, 5.4, 2.3],\n",
       " [150.0, 5.9, 3.0, 5.1, 1.8]], shape=[5, 5], strides=[1, 150], layout=f (0x8), const ndim=2"
      ]
     },
     "execution_count": 68,
     "metadata": {},
     "output_type": "execute_result"
    }
   ],
   "source": [
    "//ndarray: last five row\n",
    "numeric_iris_ndarray.slice(s![-5.., ..])"
   ]
  },
  {
   "cell_type": "code",
   "execution_count": 69,
   "metadata": {},
   "outputs": [
    {
     "data": {
      "text/plain": [
       "false"
      ]
     },
     "execution_count": 69,
     "metadata": {},
     "output_type": "execute_result"
    }
   ],
   "source": [
    "//check for zero elements\n",
    "numeric_iris_ndarray.is_empty()"
   ]
  },
  {
   "cell_type": "code",
   "execution_count": null,
   "metadata": {},
   "outputs": [],
   "source": []
  }
 ],
 "metadata": {
  "kernelspec": {
   "display_name": "Rust",
   "language": "rust",
   "name": "rust"
  },
  "language_info": {
   "codemirror_mode": "rust",
   "file_extension": ".rs",
   "mimetype": "text/rust",
   "name": "rust",
   "pygment_lexer": "rust",
   "version": ""
  }
 },
 "nbformat": 4,
 "nbformat_minor": 2
}
